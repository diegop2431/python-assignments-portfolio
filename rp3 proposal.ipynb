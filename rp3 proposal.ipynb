{
 "cells": [
  {
   "cell_type": "code",
   "execution_count": 49,
   "id": "87885ed0-7d11-4d60-95f8-e8d651845fb7",
   "metadata": {},
   "outputs": [
    {
     "name": "stdout",
     "output_type": "stream",
     "text": [
      "[2290053.715894993, 2318683.8750760816, 2321868.461580147, 2338938.988042484, 2283952.1332589956, 2244588.162483094, 2225541.817213279, 2261726.506882778, 2316469.04644285, 2339006.9920983305, 2285138.2350852834, 2307717.7314331587]\n",
      "27533685.665491477\n"
     ]
    },
    {
     "data": {
      "text/plain": [
       "<BarContainer object of 12 artists>"
      ]
     },
     "execution_count": 49,
     "metadata": {},
     "output_type": "execute_result"
    },
    {
     "data": {
      "image/png": "[encoded data removed]",
      "text/plain": [
       "<Figure size 640x480 with 1 Axes>"
      ]
     },
     "metadata": {},
     "output_type": "display_data"
    }
   ],
   "source": [
    "import numpy as np\n",
    "import matplotlib.pyplot as plt\n",
    "\n",
    "tadoussac=[15.1, 14.4, 14.3, 13.3, 11.5, 11, 10.8, 11.2, 12.1, 13.2, 15.2, 14.7]\n",
    "area = np.pi*(75**2)\n",
    "list=[]\n",
    "speed=np.arange(0,31,1)\n",
    "\n",
    "#calculate and plot power curve\n",
    "for mean in tadoussac:\n",
    "    Pw=[]\n",
    "    rd=[]\n",
    "    for x in speed:\n",
    "        if 3<=x<24.5:\n",
    "            ws = (0.5*1.204*area*0.5*(x**3))/1000\n",
    "            if ws>=4500:\n",
    "                Pw.append(4500)\n",
    "            else:\n",
    "                Pw.append(ws)\n",
    "        else:\n",
    "            Pw.append(0)\n",
    " \n",
    "#Rayleigh distribution for wind speed\n",
    "\n",
    "\n",
    "    for x in speed:\n",
    "        pdf = (np.pi/2)*(x/mean**2)*np.exp(-((np.pi/4)*(x/mean)**2))\n",
    "        rd.append(pdf)\n",
    "\n",
    "\n",
    "    list.append(sum(np.multiply(Pw, rd)))\n",
    "list=[x*720 for x in list]\n",
    "print(list)\n",
    "print(sum(list))\n",
    "x_values=[\"Jan\", \"Feb\", \"Mar\", \"Apr\", \"May\", \"June\", \"July\", \"Aug\", \"Sep\", \"Oct\", \"Nov\", \"Dec\"]\n",
    "plt.bar(x_values, list)"
   ]
  },
  {
   "cell_type": "code",
   "execution_count": 12,
   "id": "245a9cba-7c0f-4656-91ee-04c96ff10276",
   "metadata": {},
   "outputs": [
    {
     "name": "stdout",
     "output_type": "stream",
     "text": [
      "[2, 4, 6, 8, 10]\n"
     ]
    }
   ],
   "source": [
    "list=[1,2,3,4,5]\n",
    "test=[]\n",
    "def bur(x):\n",
    "    for x in list:\n",
    "        fun=x*2\n",
    "        test.append(fun)\n",
    "    return test\n",
    "print(bur(x))"
   ]
  },
  {
   "cell_type": "code",
   "execution_count": 28,
   "id": "979c8e07-b034-4714-9234-c54e7fe3629f",
   "metadata": {},
   "outputs": [
    {
     "name": "stdout",
     "output_type": "stream",
     "text": [
      "[ 1  4  9 16]\n"
     ]
    }
   ],
   "source": [
    "d=[1, 2, 3, 4]\n",
    "s=[1, 2, 3, 4]\n",
    "print(np.multiply(d, s))"
   ]
  },
  {
   "cell_type": "code",
   "execution_count": null,
   "id": "23beb071-b9aa-4150-8b43-431fd8756eca",
   "metadata": {},
   "outputs": [],
   "source": [
    "def monthly_power(x):\n",
    "    mE=[]\n",
    "    for i in [10, 20, 25, 20, 10]:\n",
    "        total_power = np.multiply(wind_power_curve(), rayleigh_dis(i))\n",
    "        mE.append(total_power)\n",
    "    return mE\n",
    "print(monthly_power(x))"
   ]
  }
 ],
 "metadata": {
  "kernelspec": {
   "display_name": "Python 3 (ipykernel)",
   "language": "python",
   "name": "python3"
  },
  "language_info": {
   "codemirror_mode": {
    "name": "ipython",
    "version": 3
   },
   "file_extension": ".py",
   "mimetype": "text/x-python",
   "name": "python",
   "nbconvert_exporter": "python",
   "pygments_lexer": "ipython3",
   "version": "3.11.4"
  }
 },
 "nbformat": 4,
 "nbformat_minor": 5
}
