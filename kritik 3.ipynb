{
 "cells": [
  {
   "cell_type": "code",
   "execution_count": 2,
   "id": "7cfb7838-ba7d-4876-b740-9046d9dba8ff",
   "metadata": {},
   "outputs": [
    {
     "name": "stdin",
     "output_type": "stream",
     "text": [
      "c:  0\n",
      "E:  0.01\n"
     ]
    },
    {
     "name": "stdout",
     "output_type": "stream",
     "text": [
      "x1: -0.14484000000000002\n",
      "x2: 0.13817000000000002\n",
      "None\n"
     ]
    }
   ],
   "source": [
    "import numpy as np\n",
    "c=float(input(\"c: \"))\n",
    "E=float(input(\"E: \"))\n",
    "def f(x):\n",
    "    return np.exp(x)\n",
    "def f2(x):\n",
    "    return (f(x+10**-8)-f(x-10**-8))/(2*10**-8)\n",
    "def L(x):\n",
    "    return f(c)+f2(c)*(x-c)\n",
    "def func(f,c,E):\n",
    "    n=100000\n",
    "    b=c-1\n",
    "    a=c\n",
    "    h=c\n",
    "    j=c+1\n",
    "    for x1 in np.linspace(a,b,n+1):\n",
    "        if abs(f(x1)-L(x1)) >= E:\n",
    "            print(\"x1:\",x1)\n",
    "            break\n",
    "    for x2 in np.linspace(h,j,n+1):\n",
    "        if abs(f(x2)-L(x2)) >= E:\n",
    "            print(\"x2:\",x2)\n",
    "            break\n",
    "print(func(f,c,E))    "
   ]
  },
  {
   "cell_type": "code",
   "execution_count": null,
   "id": "4f205693-94a1-4e7c-9113-fd21fe9fb5c5",
   "metadata": {},
   "outputs": [],
   "source": []
  }
 ],
 "metadata": {
  "kernelspec": {
   "display_name": "Python 3 (ipykernel)",
   "language": "python",
   "name": "python3"
  },
  "language_info": {
   "codemirror_mode": {
    "name": "ipython",
    "version": 3
   },
   "file_extension": ".py",
   "mimetype": "text/x-python",
   "name": "python",
   "nbconvert_exporter": "python",
   "pygments_lexer": "ipython3",
   "version": "3.11.4"
  }
 },
 "nbformat": 4,
 "nbformat_minor": 5
}
